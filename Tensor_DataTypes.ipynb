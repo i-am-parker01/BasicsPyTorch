{
  "nbformat": 4,
  "nbformat_minor": 0,
  "metadata": {
    "colab": {
      "provenance": [],
      "authorship_tag": "ABX9TyN+gnV9IsviPPNZVHhVJ4pN",
      "include_colab_link": true
    },
    "kernelspec": {
      "name": "python3",
      "display_name": "Python 3"
    },
    "language_info": {
      "name": "python"
    }
  },
  "cells": [
    {
      "cell_type": "markdown",
      "metadata": {
        "id": "view-in-github",
        "colab_type": "text"
      },
      "source": [
        "<a href=\"https://colab.research.google.com/github/i-am-parker01/BasicsPyTorch/blob/main/Tensor_DataTypes.ipynb\" target=\"_parent\"><img src=\"https://colab.research.google.com/assets/colab-badge.svg\" alt=\"Open In Colab\"/></a>"
      ]
    },
    {
      "cell_type": "code",
      "execution_count": 1,
      "metadata": {
        "colab": {
          "base_uri": "https://localhost:8080/",
          "height": 36
        },
        "id": "lDxKkJtZlYrn",
        "outputId": "cec344b0-acdc-499b-b45d-2c96b601d0dc"
      },
      "outputs": [
        {
          "output_type": "execute_result",
          "data": {
            "text/plain": [
              "'\\nfloating- used for deep-learning tasks.\\nIntegers- For categorical data and indices.\\nbooleans- Mask/Logical Operations.\\nComplex Numbers- Used for advanced Computation..\\n'"
            ],
            "application/vnd.google.colaboratory.intrinsic+json": {
              "type": "string"
            }
          },
          "metadata": {},
          "execution_count": 1
        }
      ],
      "source": [
        "\"\"\"\n",
        "floating- used for deep-learning tasks--->>> float32, float64, float16\n",
        "Integers- For categorical data and indices.--->>> int32, int64, int8\n",
        "booleans- Mask/Logical Operations.\n",
        "Complex Numbers- Used for advanced Computation.--->>> complex64, complex128.\n",
        "\n",
        "Memory Consumption : float16 << float32 << float64\n",
        "Computation: Lower Precision will be faster on GPU...\n",
        "numerical Precision: float64 is more precise than float32\n",
        "\"\"\""
      ]
    },
    {
      "cell_type": "code",
      "source": [
        "import torch"
      ],
      "metadata": {
        "id": "AaVxnp2CpWQV"
      },
      "execution_count": 2,
      "outputs": []
    },
    {
      "cell_type": "code",
      "source": [
        "default_tensor=torch.tensor([1.5,2.5,3.5])\n",
        "print(default_tensor.dtype)"
      ],
      "metadata": {
        "colab": {
          "base_uri": "https://localhost:8080/"
        },
        "id": "0NLE2GV-paDQ",
        "outputId": "2c0c28e5-3234-4391-fe5b-5b25e1ca44b9"
      },
      "execution_count": 4,
      "outputs": [
        {
          "output_type": "stream",
          "name": "stdout",
          "text": [
            "torch.float32\n"
          ]
        }
      ]
    },
    {
      "cell_type": "code",
      "source": [
        "float_tensor=torch.tensor([1.5,5.7,6.9],dtype=torch.float64)\n",
        "print(float_tensor.dtype)"
      ],
      "metadata": {
        "colab": {
          "base_uri": "https://localhost:8080/"
        },
        "id": "3B9AZpfEseZ8",
        "outputId": "ad00c599-8366-4047-f1dd-629e93190745"
      },
      "execution_count": 5,
      "outputs": [
        {
          "output_type": "stream",
          "name": "stdout",
          "text": [
            "torch.float64\n"
          ]
        }
      ]
    },
    {
      "cell_type": "code",
      "source": [
        "float_tensor3=torch.tensor([1.5,5.7,6.8],dtype=torch.float16)\n",
        "print(float_tensor3.dtype)"
      ],
      "metadata": {
        "colab": {
          "base_uri": "https://localhost:8080/"
        },
        "id": "E6TeBFTLtoLq",
        "outputId": "7544df23-b1c8-408d-d65b-9667636d00f5"
      },
      "execution_count": 6,
      "outputs": [
        {
          "output_type": "stream",
          "name": "stdout",
          "text": [
            "torch.float16\n"
          ]
        }
      ]
    },
    {
      "cell_type": "code",
      "source": [
        "int_value=torch.tensor([1,2,3])\n",
        "print(int_value.dtype)"
      ],
      "metadata": {
        "colab": {
          "base_uri": "https://localhost:8080/"
        },
        "id": "8XRNX8zPuJdO",
        "outputId": "b04780db-23b1-4929-e3c8-0d0f16ea5120"
      },
      "execution_count": 7,
      "outputs": [
        {
          "output_type": "stream",
          "name": "stdout",
          "text": [
            "torch.int64\n"
          ]
        }
      ]
    },
    {
      "cell_type": "code",
      "source": [
        "int_value2=torch.tensor([2,6,7],dtype=torch.int8)\n",
        "print(int_value2.dtype)"
      ],
      "metadata": {
        "colab": {
          "base_uri": "https://localhost:8080/"
        },
        "id": "jrqLG-bCuqiv",
        "outputId": "e030bfea-6246-444a-e935-81cb2b64743f"
      },
      "execution_count": 8,
      "outputs": [
        {
          "output_type": "stream",
          "name": "stdout",
          "text": [
            "torch.int8\n"
          ]
        }
      ]
    },
    {
      "cell_type": "code",
      "source": [
        "complex=torch.tensor([1+2j])\n",
        "print(complex.dtype)"
      ],
      "metadata": {
        "colab": {
          "base_uri": "https://localhost:8080/"
        },
        "id": "FeSDU8lZvExt",
        "outputId": "8d8a4ce9-5dd5-4677-de66-98664c77b278"
      },
      "execution_count": 10,
      "outputs": [
        {
          "output_type": "stream",
          "name": "stdout",
          "text": [
            "torch.complex64\n"
          ]
        }
      ]
    },
    {
      "cell_type": "code",
      "source": [
        "complex2=torch.tensor([7+9j],dtype=torch.complex128)\n",
        "print(complex2.dtype)"
      ],
      "metadata": {
        "colab": {
          "base_uri": "https://localhost:8080/"
        },
        "id": "nEFLZvuavboY",
        "outputId": "926c89c7-07cd-472a-ee6d-6a70f366edfd"
      },
      "execution_count": 11,
      "outputs": [
        {
          "output_type": "stream",
          "name": "stdout",
          "text": [
            "torch.complex128\n"
          ]
        }
      ]
    },
    {
      "cell_type": "code",
      "source": [
        "randoms=torch.tensor([1.8,5.9,2.8],dtype=torch.int32)\n",
        "print(randoms.dtype)\n",
        "print(randoms)"
      ],
      "metadata": {
        "colab": {
          "base_uri": "https://localhost:8080/"
        },
        "id": "qqMG9FwEv5kN",
        "outputId": "405660e9-85ba-4ca9-f848-20d2764cd317"
      },
      "execution_count": 13,
      "outputs": [
        {
          "output_type": "stream",
          "name": "stdout",
          "text": [
            "torch.int32\n",
            "tensor([1, 5, 2], dtype=torch.int32)\n"
          ]
        }
      ]
    },
    {
      "cell_type": "code",
      "source": [
        "booleans=torch.tensor([True,False,True],dtype=torch.bool)\n",
        "print(booleans.dtype)\n",
        "print(booleans)"
      ],
      "metadata": {
        "colab": {
          "base_uri": "https://localhost:8080/"
        },
        "id": "xREkSmzWwRLH",
        "outputId": "e3369edc-71a3-4272-92c3-6c30d9deaac0"
      },
      "execution_count": 16,
      "outputs": [
        {
          "output_type": "stream",
          "name": "stdout",
          "text": [
            "torch.bool\n",
            "tensor([ True, False,  True])\n"
          ]
        }
      ]
    },
    {
      "cell_type": "code",
      "source": [
        "float_tensor=torch.tensor([1.5,2.5,3.5])\n",
        "print(float_tensor.dtype)\n",
        "print(float_tensor)\n",
        "\n",
        "int_tensor=float_tensor.to(torch.int64)\n",
        "print(int_tensor.dtype)\n",
        "print(int_tensor)"
      ],
      "metadata": {
        "colab": {
          "base_uri": "https://localhost:8080/"
        },
        "id": "qw4cHm4nxGwF",
        "outputId": "8f7fba1b-fd68-4219-8591-4a8a7f6c2e01"
      },
      "execution_count": 22,
      "outputs": [
        {
          "output_type": "stream",
          "name": "stdout",
          "text": [
            "torch.float32\n",
            "tensor([1.5000, 2.5000, 3.5000])\n",
            "torch.int64\n",
            "tensor([1, 2, 3])\n"
          ]
        }
      ]
    },
    {
      "cell_type": "code",
      "source": [
        "bool_tensor1=int_tensor.to(torch.bool)\n",
        "print(bool_tensor1.dtype)\n",
        "print(bool_tensor1)"
      ],
      "metadata": {
        "colab": {
          "base_uri": "https://localhost:8080/"
        },
        "id": "JzP081v-zAjl",
        "outputId": "8119dc71-8f88-4e3e-a2d3-a0fd7fe9df96"
      },
      "execution_count": 24,
      "outputs": [
        {
          "output_type": "stream",
          "name": "stdout",
          "text": [
            "torch.bool\n",
            "tensor([True, True, True])\n"
          ]
        }
      ]
    },
    {
      "cell_type": "code",
      "source": [
        "complex_tensor=float_tensor.to(torch.complex128)\n",
        "print(complex_tensor.dtype)\n",
        "print(complex_tensor)"
      ],
      "metadata": {
        "colab": {
          "base_uri": "https://localhost:8080/"
        },
        "id": "Ryi22EKT0huw",
        "outputId": "f8014107-1cf2-4417-93b3-2ef53275bc85"
      },
      "execution_count": 25,
      "outputs": [
        {
          "output_type": "stream",
          "name": "stdout",
          "text": [
            "torch.complex128\n",
            "tensor([1.5000+0.j, 2.5000+0.j, 3.5000+0.j], dtype=torch.complex128)\n"
          ]
        }
      ]
    },
    {
      "cell_type": "code",
      "source": [
        "int=torch.tensor([0,1,5,0])\n",
        "bool=int.to(torch.bool)\n",
        "print(bool.dtype)\n",
        "print(bool)"
      ],
      "metadata": {
        "colab": {
          "base_uri": "https://localhost:8080/"
        },
        "id": "ns_NAPuP08yn",
        "outputId": "8e4a074c-b38a-48eb-e16b-17c3e4033b48"
      },
      "execution_count": 26,
      "outputs": [
        {
          "output_type": "stream",
          "name": "stdout",
          "text": [
            "torch.bool\n",
            "tensor([False,  True,  True, False])\n"
          ]
        }
      ]
    },
    {
      "cell_type": "code",
      "source": [
        "float=torch.tensor([1.7,5.9,0,5.])\n",
        "boolean=float.to(torch.bool)\n",
        "print(boolean.dtype)\n",
        "print(boolean)"
      ],
      "metadata": {
        "colab": {
          "base_uri": "https://localhost:8080/"
        },
        "id": "LGAaFry41X4j",
        "outputId": "a203d5ae-ad6e-4909-dbcd-586c9d3f7ff9"
      },
      "execution_count": 28,
      "outputs": [
        {
          "output_type": "stream",
          "name": "stdout",
          "text": [
            "torch.bool\n",
            "tensor([ True,  True, False,  True])\n"
          ]
        }
      ]
    },
    {
      "cell_type": "markdown",
      "source": [
        "**Impact of data type on memory...**"
      ],
      "metadata": {
        "id": "EtgxY1PB3R7G"
      }
    },
    {
      "cell_type": "code",
      "source": [
        "float_tensor1=torch.ones(1000,dtype=torch.float32)\n",
        "float_tensor2=torch.ones(1000,dtype=torch.float64)\n",
        "float_tensor3=torch.ones(1000,dtype=torch.float16)\n",
        "#Tensor element size...\n",
        "# element_size-->> gives the size of one element in bytes..\n",
        "# nelements-->>> Returns total number of elements in an array....\n",
        "print(\"Memory used by float32 tensor: \",float_tensor1.element_size()* float_tensor1.nelement())\n",
        "print(\"Memory used by float64 tensor: \",float_tensor2.element_size()* float_tensor2.nelement())\n",
        "print(\"Memory used by float16 tensor: \",float_tensor3.element_size()*float_tensor3.nelement())\n"
      ],
      "metadata": {
        "colab": {
          "base_uri": "https://localhost:8080/"
        },
        "id": "r1s9N28d3YE0",
        "outputId": "75726426-9871-48c6-a707-1a1b9f0607b5"
      },
      "execution_count": 31,
      "outputs": [
        {
          "output_type": "stream",
          "name": "stdout",
          "text": [
            "Memory used by float32 tensor:  4000\n",
            "Memory used by float64 tensor:  8000\n",
            "Memory used by float8 tensor:  2000\n"
          ]
        }
      ]
    },
    {
      "cell_type": "code",
      "source": [],
      "metadata": {
        "id": "eyC2Ae5j4roT"
      },
      "execution_count": null,
      "outputs": []
    }
  ]
}